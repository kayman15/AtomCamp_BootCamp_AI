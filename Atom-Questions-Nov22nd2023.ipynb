{
 "cells": [
  {
   "cell_type": "markdown",
   "id": "d1fa0eb7",
   "metadata": {},
   "source": [
    "November 22nd, 2023.\n",
    "\n",
    "Python Basics practice questions – Session 3 \n",
    "\n",
    "Khurram Maqsood\n"
   ]
  },
  {
   "cell_type": "markdown",
   "id": "4a80a7c4",
   "metadata": {},
   "source": [
    "Q1. Print i as long as i is less than 6, using while loop."
   ]
  },
  {
   "cell_type": "code",
   "execution_count": 1,
   "id": "b84b0b28",
   "metadata": {},
   "outputs": [
    {
     "name": "stdout",
     "output_type": "stream",
     "text": [
      "0\n",
      "1\n",
      "2\n",
      "3\n",
      "4\n",
      "5\n"
     ]
    }
   ],
   "source": [
    "i = 0\n",
    "\n",
    "while i < 6:\n",
    "    print(i)\n",
    "    i += 1\n",
    "        "
   ]
  },
  {
   "cell_type": "markdown",
   "id": "458d8bea",
   "metadata": {},
   "source": [
    "Q2. Print all items in a list, using a while loop to go through all the index numbers."
   ]
  },
  {
   "cell_type": "code",
   "execution_count": 2,
   "id": "5a06352b",
   "metadata": {},
   "outputs": [
    {
     "name": "stdout",
     "output_type": "stream",
     "text": [
      "Red\n",
      "Door\n",
      "43\n",
      "Real\n",
      "103\n"
     ]
    }
   ],
   "source": [
    "list = ['Red', 'Door', 43, 'Real', 103]\n",
    "\n",
    "item=0\n",
    "\n",
    "while item < len(list):\n",
    "  \n",
    "    print(list[item])\n",
    "    item += 1"
   ]
  },
  {
   "cell_type": "markdown",
   "id": "97e3456c",
   "metadata": {},
   "source": [
    "Q3. Print this pattern using nested loop:\n",
    "1\n",
    "22\n",
    "333\n",
    "4444\n"
   ]
  },
  {
   "cell_type": "code",
   "execution_count": 10,
   "id": "7ed3d400",
   "metadata": {},
   "outputs": [
    {
     "name": "stdout",
     "output_type": "stream",
     "text": [
      "1\n",
      "22\n",
      "333\n",
      "4444\n"
     ]
    }
   ],
   "source": [
    " \n",
    "digit=1\n",
    "for x in range(0,  4):\n",
    "    for y in range(1, x+2):\n",
    "        print(digit, end = \"\")\n",
    "    digit += 1\n",
    "    print()"
   ]
  },
  {
   "cell_type": "markdown",
   "id": "dca6aaaa",
   "metadata": {},
   "source": [
    "Q4. Print multiplication table of 2,3 and 4 using nested for loops, use format like this:\n",
    "\n",
    "    2 * 1 = 2\n"
   ]
  },
  {
   "cell_type": "code",
   "execution_count": 12,
   "id": "331ff8e9",
   "metadata": {},
   "outputs": [
    {
     "name": "stdout",
     "output_type": "stream",
     "text": [
      "2 * 1 = 2\n",
      "2 * 2 = 4\n",
      "2 * 3 = 6\n",
      "2 * 4 = 8\n",
      "2 * 5 = 10\n",
      "2 * 6 = 12\n",
      "2 * 7 = 14\n",
      "2 * 8 = 16\n",
      "2 * 9 = 18\n",
      "2 * 10 = 20\n",
      "\n",
      "3 * 1 = 3\n",
      "3 * 2 = 6\n",
      "3 * 3 = 9\n",
      "3 * 4 = 12\n",
      "3 * 5 = 15\n",
      "3 * 6 = 18\n",
      "3 * 7 = 21\n",
      "3 * 8 = 24\n",
      "3 * 9 = 27\n",
      "3 * 10 = 30\n",
      "\n",
      "4 * 1 = 4\n",
      "4 * 2 = 8\n",
      "4 * 3 = 12\n",
      "4 * 4 = 16\n",
      "4 * 5 = 20\n",
      "4 * 6 = 24\n",
      "4 * 7 = 28\n",
      "4 * 8 = 32\n",
      "4 * 9 = 36\n",
      "4 * 10 = 40\n",
      "\n"
     ]
    }
   ],
   "source": [
    "for i in range(2, 5):\n",
    "    for j in range(1, 11):\n",
    "        result = i * j\n",
    "        \n",
    "        print(f\"{i} * {j} = {result}\")\n",
    "   \n",
    "    print()"
   ]
  },
  {
   "cell_type": "markdown",
   "id": "24e4479f",
   "metadata": {},
   "source": [
    "Q5. Write a Python function to check whether a number is even or odd."
   ]
  },
  {
   "cell_type": "code",
   "execution_count": 14,
   "id": "acfd65ee",
   "metadata": {},
   "outputs": [
    {
     "name": "stdout",
     "output_type": "stream",
     "text": [
      "Enter a number: 11\n"
     ]
    },
    {
     "data": {
      "text/plain": [
       "'Odd'"
      ]
     },
     "execution_count": 14,
     "metadata": {},
     "output_type": "execute_result"
    }
   ],
   "source": [
    "def even_odd(number):\n",
    "    \n",
    "    if number % 2 == 0:\n",
    "        return \"Even\"\n",
    "    else:\n",
    "        return \"Odd\"\n",
    "    \n",
    "even_odd(int(input(\"Enter a number: \")))"
   ]
  },
  {
   "cell_type": "code",
   "execution_count": null,
   "id": "359471df",
   "metadata": {},
   "outputs": [],
   "source": []
  }
 ],
 "metadata": {
  "kernelspec": {
   "display_name": "Python 3 (ipykernel)",
   "language": "python",
   "name": "python3"
  },
  "language_info": {
   "codemirror_mode": {
    "name": "ipython",
    "version": 3
   },
   "file_extension": ".py",
   "mimetype": "text/x-python",
   "name": "python",
   "nbconvert_exporter": "python",
   "pygments_lexer": "ipython3",
   "version": "3.9.13"
  }
 },
 "nbformat": 4,
 "nbformat_minor": 5
}
