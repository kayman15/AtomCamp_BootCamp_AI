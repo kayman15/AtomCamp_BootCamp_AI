{
 "cells": [
  {
   "cell_type": "markdown",
   "id": "216c8103",
   "metadata": {},
   "source": [
    "# Assignment 1 - Python Basics\n",
    "### AI Bootcamp Cohort 1\n",
    "\n",
    "Monday, November 27th, 2023\n",
    "\n",
    "Submitted by: Khurram Maqsood"
   ]
  },
  {
   "cell_type": "markdown",
   "id": "e354be65",
   "metadata": {},
   "source": [
    "#### Instructions:\n",
    "\n",
    "1. Complete the following tasks based on the concepts covered in the \"Python Basics\" session. \n",
    "   Write your Python code in a .py file or use a Jupyter Notebook to solve the problems.\n",
    "   \n",
    "2. Ensure that your code is well-commented, and variable names are descriptive.\n",
    "\n",
    "3. If any task requires output, print the result to the console.\n",
    "\n",
    "4. Submit the completed .py file or Jupyter Notebook."
   ]
  },
  {
   "cell_type": "markdown",
   "id": "a5d915f9",
   "metadata": {},
   "source": [
    "## Task 1: Variables and Data Types"
   ]
  },
  {
   "cell_type": "markdown",
   "id": "0b1e1ffa",
   "metadata": {},
   "source": [
    "**a) Create three variables: one for storing your age (integer), one for your name (string), and one to\n",
    "   check if you are a student (Boolean). Print the variables.**"
   ]
  },
  {
   "cell_type": "code",
   "execution_count": 19,
   "id": "144278ee",
   "metadata": {},
   "outputs": [
    {
     "name": "stdout",
     "output_type": "stream",
     "text": [
      "Name: Khurram Maqsood\n",
      "Age: 55\n",
      "Is student: True\n"
     ]
    }
   ],
   "source": [
    "# Initializing the variables\n",
    "age = 55\n",
    "name = \"Khurram Maqsood\"  \n",
    "is_student = True  \n",
    "\n",
    "# Printing the variables\n",
    "print(\"Name:\", name)\n",
    "print(\"Age:\", age)\n",
    "print(\"Is student:\", is_student)"
   ]
  },
  {
   "cell_type": "markdown",
   "id": "b2df6a46",
   "metadata": {},
   "source": [
    "**b) Perform the following operations and print the results:**\n",
    "    \n",
    "- Add 25 to your age variable.\n",
    "- Concatenate your name with the string \"Smith.\"\n",
    "- Negate the Boolean variable (if True, make it False, and vice versa)."
   ]
  },
  {
   "cell_type": "code",
   "execution_count": 20,
   "id": "17961f00",
   "metadata": {},
   "outputs": [
    {
     "name": "stdout",
     "output_type": "stream",
     "text": [
      "Age: 80\n",
      "Name: Khurram Maqsood Smith\n",
      "Negated Is Student: False\n"
     ]
    }
   ],
   "source": [
    "# Performing the given operations \n",
    "age += 25  \n",
    "name += \" Smith\"  \n",
    "is_student = not is_student \n",
    "\n",
    "# Printing the resulted variables\n",
    "print(\"Age:\", age)\n",
    "print(\"Name:\", name)\n",
    "print(\"Negated Is Student:\", is_student)\n"
   ]
  },
  {
   "cell_type": "markdown",
   "id": "53d481fd",
   "metadata": {},
   "source": [
    "## Task 2: Expressions and Operators"
   ]
  },
  {
   "cell_type": "markdown",
   "id": "b0253e05",
   "metadata": {},
   "source": [
    "**a) A rectangle has a width of 5.5 units and a height of 3.25 units. Store width and height in variables.\n",
    "   Create a new variable called area and write an expression to calculate the area. Print the area in the\n",
    "   output.**"
   ]
  },
  {
   "cell_type": "code",
   "execution_count": 3,
   "id": "3eedf776",
   "metadata": {},
   "outputs": [
    {
     "name": "stdout",
     "output_type": "stream",
     "text": [
      "The area of the rectangle is: 17.875 square units\n"
     ]
    }
   ],
   "source": [
    "# Initializing the variables\n",
    "width = 5.5\n",
    "height = 3.25\n",
    "\n",
    "# Computing the area of the rectangle\n",
    "area = width * height\n",
    "\n",
    "# Print the area\n",
    "print(\"The area of the rectangle is:\", area, \"square units\")"
   ]
  },
  {
   "cell_type": "markdown",
   "id": "16c1719a",
   "metadata": {},
   "source": [
    "**b) Create a temperature variable in Celsius. \n",
    "Convert it to Fahrenheit using the formula: F = (C * 9/5) + 32. \n",
    "Store this temperature in a variable called Fahrenheit and print this variable.**"
   ]
  },
  {
   "cell_type": "code",
   "execution_count": 4,
   "id": "7b481888",
   "metadata": {},
   "outputs": [
    {
     "name": "stdout",
     "output_type": "stream",
     "text": [
      "Temperature in Fahrenheit: 95.0\n"
     ]
    }
   ],
   "source": [
    "# Temperature in Celsius\n",
    "temp_celsius = 35\n",
    "\n",
    "# Converting Celsius Temperature to Fahrenheit Temperature\n",
    "temp_fahrenheit = (temp_celsius * 9/5) + 32\n",
    "\n",
    "# Print the temperature in Fahrenheit\n",
    "print(\"Temperature in Fahrenheit:\", temp_fahrenheit)"
   ]
  },
  {
   "cell_type": "markdown",
   "id": "282326a0",
   "metadata": {},
   "source": [
    "**c) Create a variable called radius and give it a value of 5. Calculate the area of a circle with this radius\n",
    "   and store it in a variable called area. Print area at the end of your code. (Use the formula: area = π *\n",
    "   radius^2, where π (pi) is approximately 3.14159).**"
   ]
  },
  {
   "cell_type": "code",
   "execution_count": 5,
   "id": "050e8460",
   "metadata": {},
   "outputs": [
    {
     "name": "stdout",
     "output_type": "stream",
     "text": [
      "The area of the circle is: 78.53975\n"
     ]
    }
   ],
   "source": [
    "# Initializing with given radius\n",
    "radius = 5.0\n",
    "\n",
    "# Calculating the area of the circle\n",
    "pi = 3.14159\n",
    "area = pi * (radius ** 2)\n",
    "\n",
    "# Print the area of the circle\n",
    "print(\"The area of the circle is:\", area)"
   ]
  },
  {
   "cell_type": "markdown",
   "id": "a89c05dd",
   "metadata": {},
   "source": [
    "## Task 3: Introduction to Data Structures"
   ]
  },
  {
   "cell_type": "markdown",
   "id": "04b71f8a",
   "metadata": {},
   "source": [
    "**a) Create a list called \"fruits\" containing the following fruits: \n",
    "   \"apple\", \"banana\", \"orange\", \"grape\", and \"kiwi\". Print the list.**"
   ]
  },
  {
   "cell_type": "code",
   "execution_count": 2,
   "id": "febf8b6e",
   "metadata": {},
   "outputs": [
    {
     "name": "stdout",
     "output_type": "stream",
     "text": [
      "['apple', 'banana', 'orange', 'grape', 'kiwi']\n"
     ]
    }
   ],
   "source": [
    "# Creating a list called \"fruits\"\n",
    "fruits = [\"apple\", \"banana\", \"orange\", \"grape\", \"kiwi\"]\n",
    "\n",
    "# Printing the list\n",
    "print(fruits)"
   ]
  },
  {
   "cell_type": "markdown",
   "id": "da4909d5",
   "metadata": {},
   "source": [
    "**b) Create a tuple named \"months\" with the names of the first three months of the year. \n",
    "   Print the tuple.**"
   ]
  },
  {
   "cell_type": "code",
   "execution_count": 7,
   "id": "0444aba3",
   "metadata": {},
   "outputs": [
    {
     "name": "stdout",
     "output_type": "stream",
     "text": [
      "('January', 'February', 'March')\n"
     ]
    }
   ],
   "source": [
    "# Creating a tuple named \"months\" \n",
    "months = (\"January\", \"February\", \"March\")\n",
    "\n",
    "# Printing the tuple\n",
    "print(months)"
   ]
  },
  {
   "cell_type": "markdown",
   "id": "8a3f4410",
   "metadata": {},
   "source": [
    "## Task 4: List Manipulation"
   ]
  },
  {
   "cell_type": "markdown",
   "id": "3e3acdba",
   "metadata": {},
   "source": [
    "**a) Given the list of numbers below, write a Python program to calculate the sum and average of\n",
    "   these numbers. Print both results.**\n",
    "   \n",
    "   numbers = [12, 34, 45, 67, 89, 100, 23, 56]"
   ]
  },
  {
   "cell_type": "code",
   "execution_count": 8,
   "id": "36c2032d",
   "metadata": {},
   "outputs": [
    {
     "name": "stdout",
     "output_type": "stream",
     "text": [
      "Sum: 426\n",
      "Average: 53.25\n"
     ]
    }
   ],
   "source": [
    "# List of given numbers\n",
    "numbers = [12, 34, 45, 67, 89, 100, 23, 56]\n",
    "\n",
    "# Calculating the sum of numbers in the list\n",
    "sum_of_numbers = sum(numbers)\n",
    "\n",
    "# Calculating the average of numbers in the list\n",
    "average_of_numbers = sum_of_numbers / len(numbers)\n",
    "\n",
    "# Print the results\n",
    "print(\"Sum:\", sum_of_numbers)\n",
    "print(\"Average:\", average_of_numbers)"
   ]
  },
  {
   "cell_type": "markdown",
   "id": "2c471dd7",
   "metadata": {},
   "source": [
    "**b) Remove the first and last elements from the &quot;fruits&quot; list created earlier. Print the updated list.**"
   ]
  },
  {
   "cell_type": "code",
   "execution_count": 3,
   "id": "c6cf303d",
   "metadata": {},
   "outputs": [
    {
     "name": "stdout",
     "output_type": "stream",
     "text": [
      "['banana', 'orange', 'grape']\n"
     ]
    }
   ],
   "source": [
    "# Removing the first and last elements\n",
    "fruits = fruits[1:-1]\n",
    "\n",
    "# Printing the updated list\n",
    "print(fruits)"
   ]
  },
  {
   "cell_type": "markdown",
   "id": "17a6aaf3",
   "metadata": {},
   "source": [
    "## Task 5: Dictionary Operations"
   ]
  },
  {
   "cell_type": "markdown",
   "id": "9e0e003a",
   "metadata": {},
   "source": [
    "**a) Create a dictionary named \"capitals\" with three key-value pairs: \"USA\" - \"Washington D.C.\",\n",
    "\"France\" - \"Paris\"' and \"Japan\" - \"Tokyo\". Print the dictionary.**"
   ]
  },
  {
   "cell_type": "code",
   "execution_count": 6,
   "id": "64aa3ef3",
   "metadata": {},
   "outputs": [
    {
     "name": "stdout",
     "output_type": "stream",
     "text": [
      "{'USA': 'Washington D.C.', 'France': 'Paris', 'Japan': 'Tokyo'}\n"
     ]
    }
   ],
   "source": [
    "# Creating a dictionary named \"capitals\"\n",
    "capitals = {\n",
    "    \"USA\": \"Washington D.C.\",\n",
    "    \"France\": \"Paris\",\n",
    "    \"Japan\": \"Tokyo\"\n",
    "}\n",
    "\n",
    "# Printing the dictionary\n",
    "print(capitals)"
   ]
  },
  {
   "cell_type": "markdown",
   "id": "354c6f02",
   "metadata": {},
   "source": [
    "**b) Add a new country and its capital to the \"capitals\"; dictionary. The country is \"Germany\", and the capital is Berlin\". Print the updated dictionary.**"
   ]
  },
  {
   "cell_type": "code",
   "execution_count": 16,
   "id": "9c8324e0",
   "metadata": {},
   "outputs": [
    {
     "name": "stdout",
     "output_type": "stream",
     "text": [
      "{'USA': 'Washington D.C.', 'France': 'Paris', 'Japan': 'Tokyo', 'Germany': 'Berlin'}\n"
     ]
    }
   ],
   "source": [
    "# Adding a new country and its capital to the \"capitals\" dictionary\n",
    "capitals[\"Germany\"] = \"Berlin\"\n",
    "\n",
    "# Printing the updated dictionary\n",
    "print(capitals)"
   ]
  },
  {
   "cell_type": "markdown",
   "id": "b00ddb19",
   "metadata": {},
   "source": [
    "**c) Check if \"France\" exists in the \"capitals\" dictionary. If it does, print \"France\" is in the dictionary.\",\n",
    "otherwise, print \"France is not in the dictionary.\" (at the end of the lab notebook for session 1, I have\n",
    "added an example of how to use “in” in python).**"
   ]
  },
  {
   "cell_type": "code",
   "execution_count": 7,
   "id": "48376f8f",
   "metadata": {},
   "outputs": [
    {
     "name": "stdout",
     "output_type": "stream",
     "text": [
      "France is in the dictionary.\n"
     ]
    }
   ],
   "source": [
    "# Checking if \"France\" is in the \"capitals\" dictionary\n",
    "if \"France\" in capitals:\n",
    "    print(\"France is in the dictionary.\")\n",
    "else:\n",
    "    print(\"France is not in the dictionary.\")"
   ]
  },
  {
   "cell_type": "markdown",
   "id": "c7c3c6a2",
   "metadata": {},
   "source": [
    "## Task 6: Comparison Operators, Logical Operators and If/Else:"
   ]
  },
  {
   "cell_type": "markdown",
   "id": "20745f5d",
   "metadata": {},
   "source": [
    "**a) Create a variable called number that takes user input (we studied the input() function). Next,\n",
    "write a block of code that checks if the number is even or odd (hint: modulo operator. Refer to lab\n",
    "notebook 1).\n",
    "\n",
    "**Your output should print “The number is even”, or the “The number is odd”.**"
   ]
  },
  {
   "cell_type": "code",
   "execution_count": 8,
   "id": "0ec65152",
   "metadata": {},
   "outputs": [
    {
     "name": "stdout",
     "output_type": "stream",
     "text": [
      "Enter a number: 5\n",
      "5 is an odd number.\n"
     ]
    }
   ],
   "source": [
    "# Input a number\n",
    "number = int(input(\"Enter a number: \"))\n",
    "\n",
    "# Checking if the number is even or odd\n",
    "if number % 2 == 0:\n",
    "    print(f\"{number} is an even number.\")\n",
    "else:\n",
    "    print(f\"{number} is an odd number.\")"
   ]
  },
  {
   "cell_type": "markdown",
   "id": "01b145b8",
   "metadata": {},
   "source": [
    "**b) Create two variables called age and GPA. Give them values of your choice. Next, write a block of\n",
    "code to check if a student with this age and GPA is eligible for admission. The following are the\n",
    "conditions:**\n",
    "    \n",
    "- The student must be at least 18 years old.\n",
    "\n",
    "- The student's GPA must be 3.0 or higher on a scale of 4.0.\n",
    "\n",
    "Your output should print “Eligible for admission” or “Not eligible for admission”."
   ]
  },
  {
   "cell_type": "code",
   "execution_count": 9,
   "id": "89cfeb9d",
   "metadata": {},
   "outputs": [
    {
     "name": "stdout",
     "output_type": "stream",
     "text": [
      "Eligible for admission\n"
     ]
    }
   ],
   "source": [
    "# Assigning values to variables\n",
    "age = 20  \n",
    "GPA = 3.5  \n",
    "\n",
    "# Checking eligibility \n",
    "if age >= 18 and GPA >= 3.0:\n",
    "    print(\"Eligible for admission\")\n",
    "else:\n",
    "    print(\"Not eligible for admission\")"
   ]
  },
  {
   "cell_type": "markdown",
   "id": "9a149435",
   "metadata": {},
   "source": [
    "## Task 7: Advanced Data Types"
   ]
  },
  {
   "cell_type": "markdown",
   "id": "c2d48927",
   "metadata": {},
   "source": [
    "**a) Create a set named \"fruits_set\" containing the following fruits: \"apple\", \"banana\", \"orange\",\n",
    "\"grape\", and \"kiwi\". Print the set.**"
   ]
  },
  {
   "cell_type": "code",
   "execution_count": 10,
   "id": "fdc695b2",
   "metadata": {},
   "outputs": [
    {
     "name": "stdout",
     "output_type": "stream",
     "text": [
      "{'banana', 'orange', 'kiwi', 'grape', 'apple'}\n"
     ]
    }
   ],
   "source": [
    "# Creating a set named \"fruits_set\"\n",
    "fruits_set = {\"apple\", \"banana\", \"orange\", \"grape\", \"kiwi\"}\n",
    "\n",
    "# Printing the set\n",
    "print(fruits_set)"
   ]
  },
  {
   "cell_type": "markdown",
   "id": "92f73aa8",
   "metadata": {},
   "source": [
    "**b) Given two sets:\n",
    "set1 = {1, 2, 3, 4, 5}\n",
    "set2 = {3, 4, 5, 6, 7}\n",
    "\n",
    "Write Python code to perform the following operations and print the results:\n",
    "- Union of set1 and set2.\n",
    "- Intersection of set1 and set2.\n",
    "- Difference between set1 and set2.\n",
    "- Check if set1 is a subset of set2."
   ]
  },
  {
   "cell_type": "code",
   "execution_count": 11,
   "id": "9fa1f0ec",
   "metadata": {},
   "outputs": [
    {
     "name": "stdout",
     "output_type": "stream",
     "text": [
      "Union: {1, 2, 3, 4, 5, 6, 7}\n",
      "Intersection: {3, 4, 5}\n",
      "Difference: {1, 2}\n",
      "Is set1 a subset of set2: False\n"
     ]
    }
   ],
   "source": [
    "# set1 & set2\n",
    "set1 = {1, 2, 3, 4, 5}\n",
    "set2 = {3, 4, 5, 6, 7}\n",
    "\n",
    "# Union of set1 and set2\n",
    "union_result = set1.union(set2)\n",
    "print(\"Union:\", union_result)\n",
    "\n",
    "# Intersection of set1 and set2\n",
    "intersection_result = set1.intersection(set2)\n",
    "print(\"Intersection:\", intersection_result)\n",
    "\n",
    "# Difference between set1 and set2\n",
    "difference_result = set1.difference(set2)\n",
    "print(\"Difference:\", difference_result)\n",
    "\n",
    "# Check if set1 is a subset of set2\n",
    "is_subset = set1.issubset(set2)\n",
    "print(\"Is set1 a subset of set2:\", is_subset)"
   ]
  },
  {
   "cell_type": "markdown",
   "id": "4298cbb6",
   "metadata": {},
   "source": [
    "## Task 8: Strings Manipulation"
   ]
  },
  {
   "cell_type": "markdown",
   "id": "11d86305",
   "metadata": {},
   "source": [
    "**a) Create a string variable containing the following sentence:\n",
    "\"Python programming is fun and powerful!\"**\n",
    "\n",
    "**Write Python code to do the following and print the results:**\n",
    "- Find the length of the string.\n",
    "- Convert the string to uppercase.\n",
    "- Replace \"fun\" with \"exciting.\"\n",
    "- Check if the string contains the word \"Python\"\n",
    "- Split the string into a list of words."
   ]
  },
  {
   "cell_type": "code",
   "execution_count": 12,
   "id": "a3284df1",
   "metadata": {},
   "outputs": [
    {
     "name": "stdout",
     "output_type": "stream",
     "text": [
      "Length of the string: 39\n",
      "Uppercase string: PYTHON PROGRAMMING IS FUN AND POWERFUL!\n",
      "Updated sentence: Python programming is exciting and powerful!\n",
      "Does the string contain the word 'Python'?  True\n",
      "List of words: ['Python', 'programming', 'is', 'fun', 'and', 'powerful!']\n"
     ]
    }
   ],
   "source": [
    "# String variable\n",
    "sentence = \"Python programming is fun and powerful!\"\n",
    "\n",
    "# Finding the length of the string\n",
    "length_of_string = len(sentence)\n",
    "print(\"Length of the string:\", length_of_string)\n",
    "\n",
    "# Converting the string to uppercase\n",
    "uppercase_string = sentence.upper()\n",
    "print(\"Uppercase string:\", uppercase_string)\n",
    "\n",
    "# Replacing the word \"fun\" with \"exciting\"\n",
    "updated_sentence = sentence.replace(\"fun\", \"exciting\")\n",
    "print(\"Updated sentence:\", updated_sentence)\n",
    "\n",
    "# Checking if the string contains the word \"Python\"\n",
    "contains_python = \"Python\" in sentence\n",
    "print(\"Does the string contain the word 'Python'? \", contains_python)\n",
    "\n",
    "# Spliting the string into a list of words\n",
    "words_list = sentence.split()\n",
    "print(\"List of words:\", words_list)\n"
   ]
  },
  {
   "cell_type": "markdown",
   "id": "b135da9e",
   "metadata": {},
   "source": [
    "## Task 9: Functions"
   ]
  },
  {
   "cell_type": "markdown",
   "id": "516a633d",
   "metadata": {},
   "source": [
    "**a) Write a function called num_vowels that takes in a string as an argument, and returns the\n",
    "number of vowels in that string. Print out the result for the string “Learning Python is fun\n",
    "and engaging.”**"
   ]
  },
  {
   "cell_type": "code",
   "execution_count": 13,
   "id": "fcc1921b",
   "metadata": {},
   "outputs": [
    {
     "name": "stdout",
     "output_type": "stream",
     "text": [
      "The number of vowels in the string is: 10\n"
     ]
    }
   ],
   "source": [
    "def num_vowels(input_string):\n",
    "    \n",
    "    # Counting vowels \n",
    "    count = 0\n",
    "    vowels = \"aeiou\"\n",
    "\n",
    "    for char in input_string:\n",
    "        if char.lower() in vowels:\n",
    "            count += 1   \n",
    "    return count\n",
    "\n",
    "input_string = \"Learning Python is fun and engaging.\"\n",
    "result = num_vowels(input_string)\n",
    "\n",
    "# Print the result\n",
    "print(f\"The number of vowels in the string is: {result}\")"
   ]
  },
  {
   "cell_type": "markdown",
   "id": "c9b1b12a",
   "metadata": {},
   "source": [
    "**b) Create a function called hours_to_min that converts hours into minutes. The function\n",
    "should take the number of hours as input and return the equivalent number of minutes.\n",
    "Test the function with 2.5 hours and print the result.**"
   ]
  },
  {
   "cell_type": "code",
   "execution_count": 15,
   "id": "cdd52a6b",
   "metadata": {},
   "outputs": [
    {
     "name": "stdout",
     "output_type": "stream",
     "text": [
      "2.5 hours is equal to 150.0 minutes.\n"
     ]
    }
   ],
   "source": [
    "def hours_to_min(hours):\n",
    "    # Converting hours to minutes\n",
    "    minutes = hours * 60\n",
    "    return minutes\n",
    "\n",
    "# Execute the function with 2.5 hours\n",
    "result = hours_to_min(2.5)\n",
    "\n",
    "# Print the result\n",
    "print(f\"2.5 hours is equal to {result} minutes.\")"
   ]
  },
  {
   "cell_type": "markdown",
   "id": "dd5f0a60",
   "metadata": {},
   "source": [
    "**c) Write a python function that takes in a number as an argument, and prints out the table of\n",
    "that number up to 12 times that number. You may name this whatever you wish.**\n",
    "\n",
    "Sample output:\n",
    "\n",
    "1 x 8 = 8 \\\n",
    "2 x 8 = 16 \\\n",
    "3 x 8 = 24 \\\n",
    "4 x 8 = 32 \\\n",
    "5 x 8 = 40 \\\n",
    "6 x 8 = 48 \\\n",
    "7 x 8 = 56 \\\n",
    "8 x 8 = 64 \\\n",
    "9 x 8 = 72 \\\n",
    "10 x 8 = 80 \\\n",
    "11 x 8 = 88 \\\n",
    "12 x 8 = 96 "
   ]
  },
  {
   "cell_type": "code",
   "execution_count": 14,
   "id": "fffe0768",
   "metadata": {},
   "outputs": [
    {
     "name": "stdout",
     "output_type": "stream",
     "text": [
      "1 x 5 = 5\n",
      "2 x 5 = 10\n",
      "3 x 5 = 15\n",
      "4 x 5 = 20\n",
      "5 x 5 = 25\n",
      "6 x 5 = 30\n",
      "7 x 5 = 35\n",
      "8 x 5 = 40\n",
      "9 x 5 = 45\n",
      "10 x 5 = 50\n",
      "11 x 5 = 55\n",
      "12 x 5 = 60\n"
     ]
    }
   ],
   "source": [
    "def print_table(number):\n",
    "    for i in range(1, 13):\n",
    "        result = number * i\n",
    "        print(f\"{i} x {number} = {result}\")\n",
    "\n",
    "# execute function with the number 5\n",
    "print_table(5)"
   ]
  },
  {
   "cell_type": "code",
   "execution_count": null,
   "id": "5459dcf7",
   "metadata": {},
   "outputs": [],
   "source": []
  }
 ],
 "metadata": {
  "kernelspec": {
   "display_name": "Python 3 (ipykernel)",
   "language": "python",
   "name": "python3"
  },
  "language_info": {
   "codemirror_mode": {
    "name": "ipython",
    "version": 3
   },
   "file_extension": ".py",
   "mimetype": "text/x-python",
   "name": "python",
   "nbconvert_exporter": "python",
   "pygments_lexer": "ipython3",
   "version": "3.11.5"
  }
 },
 "nbformat": 4,
 "nbformat_minor": 5
}
